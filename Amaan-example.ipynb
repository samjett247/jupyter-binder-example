{
 "cells": [
  {
   "cell_type": "markdown",
   "metadata": {},
   "source": [
    "# Ipywidgets"
   ]
  },
  {
   "cell_type": "code",
   "execution_count": 5,
   "metadata": {},
   "outputs": [
    {
     "data": {
      "application/vnd.jupyter.widget-view+json": {
       "model_id": "70ee2acfb3a84cc29ad59bc97505b2ac",
       "version_major": 2,
       "version_minor": 0
      },
      "text/plain": [
       "interactive(children=(Text(value='', description='write'), IntSlider(value=0, continuous_update=False, descrip…"
      ]
     },
     "metadata": {},
     "output_type": "display_data"
    }
   ],
   "source": [
    "import matplotlib.pyplot as plt\n",
    "import numpy as np\n",
    "from skimage import io\n",
    "import matplotlib.cm\n",
    "from PIL import Image\n",
    "from ipywidgets import interact\n",
    "from ipywidgets.widgets import IntSlider, Dropdown, Text\n",
    "plt.ion()\n",
    "\n",
    "\n",
    "cmaps = matplotlib.cm.cmap_d.keys()\n",
    "a = plt.imread(\"https://modulim.com/wp-content/uploads/2019/03/homepage-section-3-sfdi-001.png\")\n",
    "def plot_data(write, zoom, cmap):\n",
    "    \"\"\"\n",
    "    write: Writes on Amaan\n",
    "    zoom: The percent zoom of the image\n",
    "    cmap: The cmap that the image is displayed using\n",
    "    \"\"\"\n",
    "    zoom = zoom*0.01\n",
    "    rs, cs = a.shape[0:2]\n",
    "    fig, ax = plt.subplots(figsize=(10,10))\n",
    "    cmap = plt.get_cmap(cmap)\n",
    "    plt.imshow(np.mean(a[int(rs*zoom/2):int(rs - rs*zoom/2),int(cs*zoom/2):int(cs - cs*zoom/2)], axis=(2)), cmap = cmap)\n",
    "    plt.text(cs/3, rs/2, write, fontsize = 36)\n",
    "    plt.show()\n",
    "\n",
    "_  = interact(plot_data, write=Text(continuous_update = True), zoom=IntSlider(0, 0, 99, continuous_update = False), cmap=Dropdown(options=cmaps))\n"
   ]
  },
  {
   "cell_type": "markdown",
   "metadata": {},
   "source": [
    "# Python-markdown"
   ]
  },
  {
   "cell_type": "code",
   "execution_count": 4,
   "metadata": {},
   "outputs": [],
   "source": [
    "a = 'markdown!'\n",
    "b = 2"
   ]
  },
  {
   "cell_type": "markdown",
   "metadata": {},
   "source": [
    "**Double-click this cell, then hit `shift+enter`**\n",
    "\n",
    "this is {{ a }}\n",
    "\n",
    "it is {{ b }} cool!"
   ]
  },
  {
   "cell_type": "code",
   "execution_count": null,
   "metadata": {},
   "outputs": [],
   "source": []
  }
 ],
 "metadata": {
  "kernelspec": {
   "display_name": "Python 3",
   "language": "python",
   "name": "python3"
  },
  "language_info": {
   "codemirror_mode": {
    "name": "ipython",
    "version": 3
   },
   "file_extension": ".py",
   "mimetype": "text/x-python",
   "name": "python",
   "nbconvert_exporter": "python",
   "pygments_lexer": "ipython3",
   "version": "3.6.8"
  }
 },
 "nbformat": 4,
 "nbformat_minor": 4
}
